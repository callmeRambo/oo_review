{
 "cells": [
  {
   "cell_type": "markdown",
   "metadata": {},
   "source": [
    "OO编程基础"
   ]
  },
  {
   "cell_type": "markdown",
   "metadata": {},
   "source": [
    "http://blog.csdn.net/u013087513/article/details/50967808"
   ]
  },
  {
   "cell_type": "markdown",
   "metadata": {},
   "source": [
    "1.三大特性：封装，继承，多态"
   ]
  },
  {
   "cell_type": "markdown",
   "metadata": {},
   "source": [
    "2.类"
   ]
  },
  {
   "cell_type": "code",
   "execution_count": 14,
   "metadata": {},
   "outputs": [
    {
     "name": "stdout",
     "output_type": "stream",
     "text": [
      "Jadey 25\n"
     ]
    }
   ],
   "source": [
    "class person():\n",
    "    def __init__(self,name,age):\n",
    "        self.name = name\n",
    "        self.age = age\n",
    "    def tell(self):\n",
    "        print(self.name,self.age)\n",
    "x = person(\"Jadey\",25)\n",
    "x.tell()"
   ]
  },
  {
   "cell_type": "markdown",
   "metadata": {},
   "source": [
    "3.内存划分\n",
    "\n",
    "声明对象保存在栈内存中，属性保存在堆内存中，方法保存在全局代码中\n",
    "\n",
    "4.GC\n",
    "\n",
    "person1 = person()\n",
    "\n",
    "person2 = person()\n",
    "\n",
    "person2.name = \"x\"\n",
    "\n",
    "person2.age = 10\n",
    "\n",
    "那么person之前申请的堆内存属性则被自动回收\n"
   ]
  },
  {
   "cell_type": "markdown",
   "metadata": {},
   "source": [
    "原创 进程和线程的区别\n",
    "\n",
    "1.进程\n",
    "\n",
    "2.线程\n",
    "\n",
    "3.抢占式多任务处理：\n",
    "\n",
    "调度器作为Windows内核的一部分，将时间切片，分成一段段的时间片。这些时间间隔以毫秒为精度且长度并不固定。针对每个处理器，每个时间片仅服务于单独一个线程。线程的迅速执行给我们造成了它们在同时运行的假象。我们在两个时间片的间隔中进行上下文切换。该方法的优点在于，那些正在等待某些Windows资源的线程将不会浪费时间片，直到资源有效为止。\n",
    "\n",
    "4.进程与线程的优先级\n",
    "\n",
    "某些任务拥有比其他任务更高的优先级，它们需要操作系统为它们申请更多的处理时间。例如，某些由主处理器负责的外围驱动器必须不能被中断。另一类高优先级的任务就是图形用户界面。事实上，用户不喜欢等待用户界面被重绘。\n",
    "\n",
    "5.访问资源同步\n",
    "\n",
    "在多线程应用（一个或多个处理器）的计算中会使用到同步这个词。实际上，这些应用程序的特点就是它们拥有多个执行单元，而这些单元在访问资源的时候可能会发生冲突。线程间会共享同步对象，而同步对象的目的在于能够阻塞一个或多个线程，直到另一个线程使得某个特定条件得到满足。\n",
    "\n",
    "死锁\n",
    "\n",
    "死锁指的是由于两个或多个执行单元之间相互等待对方结束而引起阻塞的情况。例如：\n",
    "\n",
    "一个线程T1获得了对资源R1的访问权。\n",
    "\n",
    "一个线程T2获得了对资源R2的访问权。\n",
    "\n",
    "T1请求对R2的访问权但是由于此权力被T2所占而不得不等待。\n",
    "\n",
    "T2请求对R1的访问权但是由于此权力被T1所占而不得不等待。\n",
    "\n",
    "T1和T2将永远维持等待状态，此时我们陷入了死锁的处境！这种问题比你所遇到的大多数的bug都要隐秘，针对此问题主要有三种解决方案：\n",
    "\n",
    "在同一时刻不允许一个线程访问多个资源。\n",
    "为资源访问权的获取定义一个关系顺序。换句话说，当一个线程已经获得了R1的访问权后，将无法获得R2的访问权。当然，访问权的释放必须遵循相反的顺序。\n",
    "为所有访问资源的请求系统地定义一个最大等待时间（超时时间），并妥善处理请求失败的情况。几乎所有的.NET的同步机制都提供了这个功能。\n",
    "前两种技术效率更高但是也更加难于实现。事实上，它们都需要很强的约束，而这点随着应用程序的演变将越来越难以维护。尽管如此，使用这些技术不会存在失败的情况。\n",
    "\n",
    "大的项目通常使用第三种方法。事实上，如果项目很大，一般来说它会使用大量的资源。在这种情况下，资源之间发生冲突的概率很低，也就意味着失败的情况会比较罕见。我们认为这是一种乐观的方法。秉着同样的精神，我们在19.5节描述了一种乐观的数据库访问模型。"
   ]
  },
  {
   "cell_type": "code",
   "execution_count": 27,
   "metadata": {},
   "outputs": [
    {
     "data": {
      "text/plain": [
       "[18, 9, 24, 12, 27]"
      ]
     },
     "execution_count": 27,
     "metadata": {},
     "output_type": "execute_result"
    }
   ],
   "source": [
    "#lambda表达式\n",
    "foo = [2, 18, 9, 22, 17, 24, 8, 12, 27]\n",
    "a=filter(lambda x: x % 3 == 0, foo)\n",
    "list(a)"
   ]
  }
 ],
 "metadata": {
  "kernelspec": {
   "display_name": "Python 3",
   "language": "python",
   "name": "python3"
  },
  "language_info": {
   "codemirror_mode": {
    "name": "ipython",
    "version": 3
   },
   "file_extension": ".py",
   "mimetype": "text/x-python",
   "name": "python",
   "nbconvert_exporter": "python",
   "pygments_lexer": "ipython3",
   "version": "3.5.2"
  }
 },
 "nbformat": 4,
 "nbformat_minor": 2
}
